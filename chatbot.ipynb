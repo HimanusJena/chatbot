{
 "cells": [
  {
   "cell_type": "code",
   "execution_count": null,
   "id": "df1f16dd-dcdb-422d-8eed-4b54818b6eae",
   "metadata": {},
   "outputs": [
    {
     "name": "stdout",
     "output_type": "stream",
     "text": [
      "Chatbot:Hi! I am your friendly chatbot. How can i help you today?\n"
     ]
    },
    {
     "name": "stdin",
     "output_type": "stream",
     "text": [
      "Me:  Hii\n"
     ]
    },
    {
     "name": "stdout",
     "output_type": "stream",
     "text": [
      "Chatbot: I'm sorry, I didn't understand that. Can you please rephrase your sentence?\n"
     ]
    },
    {
     "name": "stdin",
     "output_type": "stream",
     "text": [
      "Me:  who are you\n"
     ]
    },
    {
     "name": "stdout",
     "output_type": "stream",
     "text": [
      "Chatbot: I'm just a digital tool designed to have a chat, but you can call me Chatbot.\n"
     ]
    },
    {
     "name": "stdin",
     "output_type": "stream",
     "text": [
      "Me:  hello\n"
     ]
    },
    {
     "name": "stdout",
     "output_type": "stream",
     "text": [
      "Chatbot: Hello! How can I help you today?\n"
     ]
    },
    {
     "name": "stdout",
     "output_type": "stream",
     "text": [
      "Chatbot: I'm sorry, I didn't understand that. Can you please rephrase your sentence?\n"
     ]
    },
    {
     "name": "stdout",
     "output_type": "stream",
     "text": [
      "Me:  hello\n"
     ]
    },
    {
     "name": "stdout",
     "output_type": "stream",
     "text": [
      "Chatbot: Hello! How can I help you today?\n"
     ]
    },
    {
     "name": "stdout",
     "output_type": "stream",
     "text": [
      "Me:  Do you know how to cook?\n"
     ]
    },
    {
     "name": "stdout",
     "output_type": "stream",
     "text": [
      "Chatbot: I'm sorry, I didn't understand that. Can you please rephrase your sentence?\n"
     ]
    },
    {
     "name": "stdout",
     "output_type": "stream",
     "text": [
      "Me:  it is so great to talk to you.\n"
     ]
    },
    {
     "name": "stdout",
     "output_type": "stream",
     "text": [
      "Chatbot: Aww, thats so nice of you Thank you.\n"
     ]
    },
    {
     "name": "stdout",
     "output_type": "stream",
     "text": [
      "Me:  can you sing a song for me?\n"
     ]
    },
    {
     "name": "stdout",
     "output_type": "stream",
     "text": [
      "Chatbot: yes, which one do you want to listen here are some lists of the songs.\n"
     ]
    }
   ],
   "source": [
    "data = {\n",
    "    \"Hii\": \"Hi there! I'm a friendly chatbot here to assist you.\",\n",
    "    \"hello\": \"Hello! How can I help you today?\",\n",
    "    \"who are you\": \"I'm just a digital tool designed to have a chat, but you can call me Chatbot.\",\n",
    "    \"what's your name\": \"I don't have a real name, so I don't really need one.\",\n",
    "    \"what should i call you?\":\"you can call me chatbot.\",\n",
    "    \"what is your favourite colour ?\":\"I really don't have a favourite colour.\",\n",
    "    \"What is your favourite food ?\":\"I don't eat, so i don't have any favourite food but i can give you some really delicious food recipies.\",\n",
    "    \"can you help me with my math ?\":\"yes, i will be happy to help you.\",\n",
    "    \"Good Morning\":\"Very good morning, How can i help you today?\",\n",
    "    \"what did you eat today?\":\"As you now i am a designed tool to help you, so as a tool i don't eat.\",\n",
    "    \"can you sing a song for me?\":\"yes, which one do you want to listen here are some lists of the songs.\",\n",
    "    \"Do you know how to cook?\":\"i can't cook but here are some recipies of some really delicious food.\",\n",
    "    \"it is so great to talk to you.\":\"Aww, thats so nice of you Thank you.\",\n",
    "    \"Bye\":\"Bye! Take care and have a great day.\",\n",
    "}\n",
    "\n",
    "def get_response(user_input):\n",
    "    for pattern, response in data.items():\n",
    "        if pattern in user_input.lower():\n",
    "            return response\n",
    "    return \"I'm sorry, I didn't understand that. Can you please rephrase your sentence?\"\n",
    "print(\"Chatbot:Hi! I am your friendly chatbot. How can i help you today?\")\n",
    "while True:\n",
    "    user_input = input(\"Me: \")\n",
    "    if user_input.lower() == 'bye':\n",
    "        print(\"Chatbot: Goodbye! Have a great day!\")\n",
    "        break\n",
    "    else:\n",
    "        response = get_response(user_input)\n",
    "        print(\"Chatbot:\", response)\n"
   ]
  },
  {
   "cell_type": "code",
   "execution_count": null,
   "id": "bf339189-e664-4094-8081-0dc4992586c2",
   "metadata": {},
   "outputs": [],
   "source": [
    "Hii"
   ]
  },
  {
   "cell_type": "code",
   "execution_count": null,
   "id": "60819ba9-e344-4b2e-8e04-c398a2119ded",
   "metadata": {},
   "outputs": [],
   "source": []
  }
 ],
 "metadata": {
  "kernelspec": {
   "display_name": "Python 3 (ipykernel)",
   "language": "python",
   "name": "python3"
  },
  "language_info": {
   "codemirror_mode": {
    "name": "ipython",
    "version": 3
   },
   "file_extension": ".py",
   "mimetype": "text/x-python",
   "name": "python",
   "nbconvert_exporter": "python",
   "pygments_lexer": "ipython3",
   "version": "3.12.4"
  }
 },
 "nbformat": 4,
 "nbformat_minor": 5
}
